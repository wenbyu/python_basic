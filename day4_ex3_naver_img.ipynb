{
 "cells": [
  {
   "cell_type": "code",
   "execution_count": 2,
   "metadata": {},
   "outputs": [],
   "source": [
    "#Step 1. 필요한 모듈을 로딩합니다.\n",
    "from bs4 import BeautifulSoup\n",
    "from selenium import webdriver\n",
    "from selenium.webdriver.common.keys import Keys\n",
    "from selenium.webdriver.common.by import By\n",
    "\n",
    "import chromedriver_autoinstaller as ca\n",
    "import urllib.request, time, os\n",
    "\n",
    "#Step 2. 사용자에게 필요한 정보를 입력 받습니다.\n",
    "query_txt = input('1.크롤링할 이미지의 키워드?: ')\n",
    "cnt = int(input('2.크롤링 할 건수는?: '))\n",
    "\n",
    "# 현재시간 활용 폴더 생성\n",
    "now = \"c:/py_temp/\" + time.strftime(\"%Y%m%d_%H%M%S\") +'-' + query_txt  \n",
    "os.makedirs(now)\n",
    "os.chdir(now)\n",
    "\n",
    "# Step 3. 크롬 드라이버를 사용해서 웹 브라우저를 실행합니다.\n",
    "try :\n",
    "    driver = webdriver.Chrome(ca.install())\n",
    "    base_link = 'https://search.naver.com/search.naver?where=image&sm=tab_jum&query='\n",
    "    driver.get(base_link + query_txt)\n",
    "except :\n",
    "    pass    \n",
    "\n",
    "# 웹페이지를 6회 스크롤 다운 합니다 (END 키 전송)\n",
    "for _ in range(6) :\n",
    "    time.sleep(3)\n",
    "    driver.find_element_by_xpath('//body').send_keys(Keys.END)\n",
    "\n",
    "# Step 4. 이미지 추출하기  \n",
    "soup = BeautifulSoup(driver.page_source, 'html.parser')\n",
    "\n",
    "img_src = []\n",
    "for i in soup.find_all('img', '_image _listImage') :\n",
    "    img_src.append(i[\"src\"])\n",
    "\n",
    "for idx, save_img in enumerate(img_src, start = 1) :\n",
    "    urllib.request.urlretrieve(save_img, str(idx) + \".jpg\")\n",
    "    if idx == cnt :\n",
    "        break\n",
    "\n",
    "driver.close()"
   ]
  }
 ],
 "metadata": {
  "kernelspec": {
   "display_name": "base",
   "language": "python",
   "name": "python3"
  },
  "language_info": {
   "codemirror_mode": {
    "name": "ipython",
    "version": 3
   },
   "file_extension": ".py",
   "mimetype": "text/x-python",
   "name": "python",
   "nbconvert_exporter": "python",
   "pygments_lexer": "ipython3",
   "version": "3.9.12 (main, Apr  4 2022, 05:22:27) [MSC v.1916 64 bit (AMD64)]"
  },
  "orig_nbformat": 4,
  "vscode": {
   "interpreter": {
    "hash": "19d1d53a962d236aa061289c2ac16dc8e6d9648c89fe79f459ae9a3493bc67b4"
   }
  }
 },
 "nbformat": 4,
 "nbformat_minor": 2
}
