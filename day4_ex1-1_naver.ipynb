{
 "cells": [
  {
   "cell_type": "code",
   "execution_count": null,
   "metadata": {},
   "outputs": [],
   "source": [
    "# naver.com 사이트 제어 및 데이터 수집하기\n",
    "# 모듈 불러오기\n",
    "from selenium import webdriver\n",
    "from selenium.webdriver.common.by import By\n",
    "from selenium.webdriver.common.keys import Keys\n",
    "from bs4 import BeautifulSoup\n",
    "import chromedriver_autoinstaller as ca\n",
    "import time, math, os, sys\n",
    "\n",
    "# 검색어 입력하고 웹사이트 접속하기(네이버 VIEW)\n",
    "try : \n",
    "    driver = webdriver.Chrome(ca.install())\n",
    "    address = \"https://search.naver.com/search.naver?query=\"\n",
    "    \n",
    "    driver.get(address + '가을여행' + '&nso=&where=blog&sm=tab_opt')\n",
    "    time.sleep(2)\n",
    "    driver.maximize_window()\n",
    "except NameError :\n",
    "    print(\"페이지를 열 수 없습니다.\")\n",
    "\n",
    "# 웹데이터 수집을 위한 페이지 스크롤\n",
    "for _ in range(4) :\n",
    "    time.sleep(2)\n",
    "    driver.find_element(By.XPATH, '//body').send_keys(Keys.END)\n",
    "\n",
    "# 웹데이터 수집\n",
    "# 현재 웹페이지 HTML 전체를 soup 변수에 저장\n",
    "soup = BeautifulSoup(driver.page_source, 'html.parser')\n",
    "\n",
    "# 웹사이트 닫기\n",
    "time.sleep(5) ; driver.close()\n",
    "# 웹 데이터 가져오기\n",
    "view_total = soup.find_all('div', class_='total_wrap api_ani_send')\n",
    "\n",
    "# 데이터 수집 기능 함수화\n",
    "def user_scrap() :\n",
    "    no = 0\n",
    "    for idx, _ in enumerate(view_total ,start=1):\n",
    "        if no != len(view_total) :\n",
    "            print(idx, view_total[no].get_text().strip()+'\\n')\n",
    "            no += 1\n",
    "user_scrap()   \n",
    "\n",
    "# 저장하기 기초\n",
    "출력기능원본 = sys.stdout  # 출력기능 임시 저장\n",
    "\n",
    "with open('c:/py_temp/naver_blog.txt', 'a', encoding='UTF-8') as file :\n",
    "    sys.stdout = file\n",
    "    user_scrap() \n",
    "\n",
    "sys.stdout = 출력기능원본  # 출력기능 원상 복구   "
   ]
  }
 ],
 "metadata": {
  "kernelspec": {
   "display_name": "base",
   "language": "python",
   "name": "python3"
  },
  "language_info": {
   "codemirror_mode": {
    "name": "ipython",
    "version": 3
   },
   "file_extension": ".py",
   "mimetype": "text/x-python",
   "name": "python",
   "nbconvert_exporter": "python",
   "pygments_lexer": "ipython3",
   "version": "3.9.12"
  },
  "orig_nbformat": 4,
  "vscode": {
   "interpreter": {
    "hash": "19d1d53a962d236aa061289c2ac16dc8e6d9648c89fe79f459ae9a3493bc67b4"
   }
  }
 },
 "nbformat": 4,
 "nbformat_minor": 2
}
