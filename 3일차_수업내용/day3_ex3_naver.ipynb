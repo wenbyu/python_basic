{
 "cells": [
  {
   "cell_type": "code",
   "execution_count": 3,
   "metadata": {},
   "outputs": [],
   "source": [
    "# naver.com 사이트 제어 및 데이터 수집하기\n",
    "# 모듈 불러오기\n",
    "from selenium import webdriver\n",
    "import chromedriver_autoinstaller as ca\n",
    "import time\n",
    "\n",
    "query_text = '가을여행'\n",
    "\n",
    "# 웹사이트 접속하기\n",
    "driver = webdriver.Chrome(ca.install())\n",
    "\n",
    "address = \"https://search.naver.com/search.naver?where=blog&sm=tab_viw.blog&query=\"\n",
    "driver.get(address + query_text + '&nso=')\n",
    "time.sleep(2) ; driver.maximize_window()\n",
    "\n",
    "# 웹사이트 닫기\n",
    "time.sleep(5) ; driver.close()"
   ]
  }
 ],
 "metadata": {
  "kernelspec": {
   "display_name": "base",
   "language": "python",
   "name": "python3"
  },
  "language_info": {
   "codemirror_mode": {
    "name": "ipython",
    "version": 3
   },
   "file_extension": ".py",
   "mimetype": "text/x-python",
   "name": "python",
   "nbconvert_exporter": "python",
   "pygments_lexer": "ipython3",
   "version": "3.9.12"
  },
  "orig_nbformat": 4,
  "vscode": {
   "interpreter": {
    "hash": "19d1d53a962d236aa061289c2ac16dc8e6d9648c89fe79f459ae9a3493bc67b4"
   }
  }
 },
 "nbformat": 4,
 "nbformat_minor": 2
}
