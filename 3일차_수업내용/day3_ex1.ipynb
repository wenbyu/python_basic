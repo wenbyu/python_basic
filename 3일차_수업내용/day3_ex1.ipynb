{
 "cells": [
  {
   "cell_type": "code",
   "execution_count": 11,
   "metadata": {},
   "outputs": [],
   "source": [
    "# riss.kr 사이트 제어 및 데이터 수집하기\n",
    "# 모듈 불러오기\n",
    "from selenium import webdriver\n",
    "import chromedriver_autoinstaller as ca\n",
    "import time, os, sys\n",
    "\n",
    "# 예외처리\n",
    "try :\n",
    "    driver = webdriver.Chrome(ca.install())\n",
    "except FileNotFoundError as err :\n",
    "    print(\"크롬 브라우저를 제어할 수 없습니다.\")   \n",
    "\n",
    "# 웹사이트 접속하기\n",
    "driver.get(\"https://www.riss.kr\")\n",
    "time.sleep(2)\n",
    "driver.maximize_window()\n",
    "\n",
    "# 팝업창이 있으면 닫기\n",
    "main = driver.window_handles\n",
    "for handle in main :\n",
    "    if handle != main[0] :\n",
    "        driver.switch_to.window(handle)\n",
    "        driver.close()\n",
    "\n",
    "# 메인 창으로 되돌아 오기\n",
    "driver.switch_to.window(driver.window_handles[0])\n",
    "\n",
    "# 웹페이지 제어하기 (모듈 불러오기)\n",
    "from selenium.webdriver.common.by import By\n",
    "\n",
    "time.sleep(2)\n",
    "driver.find_element(By.ID, 'query').send_keys('빅데이터'+'\\n')\n",
    "\n",
    "time.sleep(2)\n",
    "driver.find_element(By.LINK_TEXT, '국내학술논문').click()\n",
    "\n",
    "time.sleep(2)\n",
    "driver.find_element(\n",
    "    By.XPATH, '//*[@id=\"tabMenu\"]/ul/li/div/ul/li[3]/a/span').click()\n",
    "\n",
    "\n",
    "# 웹사이트 닫기\n",
    "time.sleep(5)\n",
    "driver.close()"
   ]
  }
 ],
 "metadata": {
  "kernelspec": {
   "display_name": "base",
   "language": "python",
   "name": "python3"
  },
  "language_info": {
   "codemirror_mode": {
    "name": "ipython",
    "version": 3
   },
   "file_extension": ".py",
   "mimetype": "text/x-python",
   "name": "python",
   "nbconvert_exporter": "python",
   "pygments_lexer": "ipython3",
   "version": "3.9.12"
  },
  "orig_nbformat": 4,
  "vscode": {
   "interpreter": {
    "hash": "19d1d53a962d236aa061289c2ac16dc8e6d9648c89fe79f459ae9a3493bc67b4"
   }
  }
 },
 "nbformat": 4,
 "nbformat_minor": 2
}
