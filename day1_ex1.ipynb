{
 "cells": [
  {
   "cell_type": "code",
   "execution_count": null,
   "metadata": {},
   "outputs": [],
   "source": [
    "# 셀 실행은 컨트롤+엔터\n",
    "print(\"hello python\")"
   ]
  },
  {
   "cell_type": "code",
   "execution_count": null,
   "metadata": {},
   "outputs": [],
   "source": [
    "# 변수의 이해\n",
    "가격 = 5000 ; 갯수 = 5\n",
    "print('가격 변수 저장 위치 :', id(가격))\n",
    "print('갯수 변수 저장 위치 :', id(갯수))\n",
    "print('가격 * 갯수 = ', 가격 * 갯수)"
   ]
  },
  {
   "cell_type": "code",
   "execution_count": null,
   "metadata": {},
   "outputs": [],
   "source": [
    "# 여러 건을 저장하는 방법\n",
    "자전거보관소 = ('기동 자전거', '진수 자전거')\n",
    "print(자전거보관소[0])\n",
    "print(자전거보관소[1])\n",
    "print(자전거보관소)"
   ]
  },
  {
   "cell_type": "code",
   "execution_count": null,
   "metadata": {},
   "outputs": [],
   "source": [
    "# 문자열 이해하기\n",
    "# 파이썬은 범위를 지정할 경우 끝 요소를 뺀다\n",
    "점심 = '오늘점심메뉴는짜장면'\n",
    "print(점심[0:3+1])"
   ]
  },
  {
   "cell_type": "code",
   "execution_count": null,
   "metadata": {},
   "outputs": [],
   "source": [
    "음식 = ['짜장', 500, '짬뽕', 600]\n",
    "print('짜장 + 짬뽕 가격 = ', 음식[1]+음식[3], '원')\n",
    "print(type(음식[0]))\n",
    "print(type(음식[1]))"
   ]
  },
  {
   "cell_type": "code",
   "execution_count": null,
   "metadata": {},
   "outputs": [],
   "source": [
    "# 질문 : 왼쪽괄호나 콤마를 입력하면 오른쪽것도 자동로 생기는데 \n",
    "#        방향키 말고 괄호 밖으로 커서 옮기는 단축키가 있나요?\n",
    "# 답 : 확장팩 tabout 을 설치하세요!\n",
    "\n",
    "# 질문 : (), [] 차이는?\n",
    "# 답 : () -> tuple 유형, [] -> list 유형 입니다."
   ]
  },
  {
   "cell_type": "code",
   "execution_count": null,
   "metadata": {},
   "outputs": [],
   "source": [
    "# 1~n 의 값 까지 더하는 프로그램을 함수로만 구현하시오\n",
    "# 단, n의 값은 10으로 지정합니다.\n",
    "print(sum(list(range(1,10+1))))"
   ]
  },
  {
   "cell_type": "code",
   "execution_count": null,
   "metadata": {},
   "outputs": [],
   "source": [
    "# 점(.) 표기법의 이해 Dot notation\n",
    "import math\n",
    "print(round(math.sqrt(12), 2))"
   ]
  },
  {
   "cell_type": "code",
   "execution_count": null,
   "metadata": {},
   "outputs": [],
   "source": [
    "# 점 연산자의 이해\n",
    "my_text = '     오늘 점심 짜장면       '\n",
    "my_text.lstrip().rstrip().replace('짜장면', '짬뽕')"
   ]
  },
  {
   "cell_type": "code",
   "execution_count": null,
   "metadata": {},
   "outputs": [],
   "source": [
    "# 함수 아닌 함수같은 너\n",
    "# statement -> 실행 가능한 코드 조각(덩어리)\n",
    "print(math.pi)\n",
    "print(math.tau)"
   ]
  },
  {
   "cell_type": "code",
   "execution_count": null,
   "metadata": {},
   "outputs": [],
   "source": [
    "print(pow(3,2))\n",
    "print(math.pow(3,2))"
   ]
  }
 ],
 "metadata": {
  "kernelspec": {
   "display_name": "base",
   "language": "python",
   "name": "python3"
  },
  "language_info": {
   "codemirror_mode": {
    "name": "ipython",
    "version": 3
   },
   "file_extension": ".py",
   "mimetype": "text/x-python",
   "name": "python",
   "nbconvert_exporter": "python",
   "pygments_lexer": "ipython3",
   "version": "3.9.12"
  },
  "orig_nbformat": 4,
  "vscode": {
   "interpreter": {
    "hash": "19d1d53a962d236aa061289c2ac16dc8e6d9648c89fe79f459ae9a3493bc67b4"
   }
  }
 },
 "nbformat": 4,
 "nbformat_minor": 2
}
