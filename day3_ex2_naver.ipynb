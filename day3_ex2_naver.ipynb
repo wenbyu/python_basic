{
 "cells": [
  {
   "cell_type": "code",
   "execution_count": 2,
   "metadata": {},
   "outputs": [],
   "source": [
    "# naver.com 사이트 제어 및 데이터 수집하기\n",
    "# 모듈 불러오기\n",
    "from selenium import webdriver\n",
    "import chromedriver_autoinstaller as ca\n",
    "import time, os, sys\n",
    "\n",
    "# 예외처리\n",
    "try :\n",
    "    driver = webdriver.Chrome(ca.install())\n",
    "except FileNotFoundError as err :\n",
    "    print(\"크롬 브라우저를 제어할 수 없습니다.\")   \n",
    "\n",
    "# 웹사이트 접속하기\n",
    "driver.get(\"https://www.naver.com\")\n",
    "time.sleep(2)\n",
    "driver.maximize_window()\n",
    "\n",
    "# 검색창에 검색어 넣기\n",
    "from selenium.webdriver.common.by import By\n",
    "\n",
    "time.sleep(2)\n",
    "element = driver.find_element(By.ID, 'query')\n",
    "element.click()\n",
    "element.send_keys('여름여행')\n",
    "element.submit()\n",
    "\n",
    "# VIEW 클릭\n",
    "time.sleep(2)\n",
    "driver.find_element(By.LINK_TEXT, 'VIEW').click()\n",
    "\n",
    "# 블로그 클릭\n",
    "time.sleep(2)\n",
    "driver.find_element(By.XPATH, '//*[@id=\"snb\"]/div[1]/div/div[1]/a[2]').click()\n",
    "\n",
    "# 웹사이트 닫기\n",
    "time.sleep(5)\n",
    "driver.close()\n"
   ]
  }
 ],
 "metadata": {
  "kernelspec": {
   "display_name": "base",
   "language": "python",
   "name": "python3"
  },
  "language_info": {
   "codemirror_mode": {
    "name": "ipython",
    "version": 3
   },
   "file_extension": ".py",
   "mimetype": "text/x-python",
   "name": "python",
   "nbconvert_exporter": "python",
   "pygments_lexer": "ipython3",
   "version": "3.9.12"
  },
  "orig_nbformat": 4,
  "vscode": {
   "interpreter": {
    "hash": "19d1d53a962d236aa061289c2ac16dc8e6d9648c89fe79f459ae9a3493bc67b4"
   }
  }
 },
 "nbformat": 4,
 "nbformat_minor": 2
}
