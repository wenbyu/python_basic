{
 "cells": [
  {
   "cell_type": "code",
   "execution_count": 35,
   "metadata": {},
   "outputs": [],
   "source": [
    "# naver.com 사이트 제어 및 데이터(블로그) 수집하기\n",
    "# 모듈 불러오기\n",
    "from selenium import webdriver\n",
    "from selenium.webdriver.common.by import By\n",
    "from selenium.webdriver.common.keys import Keys\n",
    "from bs4 import BeautifulSoup\n",
    "import chromedriver_autoinstaller as ca\n",
    "import time, math, os, sys\n",
    "\n",
    "# 사용자로부터 입력 받기(검색어, 수집 갯수)\n",
    "query_txt = input(\"검색어는? : \")\n",
    "user_cnt = int(input(\"수집할 갯수는? : \"))\n",
    "\n",
    "# 페이지 카운트 계산하기\n",
    "page_cnt = math.ceil(user_cnt/30)\n",
    "\n",
    "# 검색어 입력하고 웹사이트 접속하기(네이버 VIEW)\n",
    "try : \n",
    "    driver = webdriver.Chrome(ca.install())\n",
    "    address = \"https://search.naver.com/search.naver?query=\"\n",
    "    \n",
    "    driver.get(address + query_txt + '&nso=&where=blog&sm=tab_opt')\n",
    "    time.sleep(2)\n",
    "    driver.maximize_window()\n",
    "except NameError :\n",
    "    print(\"페이지를 열 수 없습니다.\")\n",
    "\n",
    "# 웹데이터 수집을 위한 페이지 스크롤\n",
    "pgdn = 0\n",
    "while pgdn < page_cnt :\n",
    "    time.sleep(2)\n",
    "    driver.find_element(By.XPATH, '//body').send_keys(Keys.END)\n",
    "    pgdn += 1\n",
    "\n",
    "# 웹데이터 수집 - 현 페이지 HTML 전체를 soup 변수에 저장하고 브라우저 종료\n",
    "soup = BeautifulSoup(driver.page_source, 'html.parser')\n",
    "time.sleep(5)\n",
    "driver.close()\n",
    "\n",
    "# 웹 데이터 가져오기 - 블로그 정보\n",
    "view_total = soup.find_all('div', class_='total_wrap api_ani_send')\n",
    "\n",
    "# 데이터 수집 기능 함수화\n",
    "def user_scrap() :\n",
    "    no = 0\n",
    "    for idx, _ in enumerate(view_total ,start=1):\n",
    "        if no != user_cnt :\n",
    "            print(idx, view_total[no].get_text().replace(\n",
    "                '문서 저장하기  Keep에 저장 Keep 바로가기','').replace('\\n','').strip()+'\\n')\n",
    "            no += 1\n",
    "\n",
    "# user_scrap()\n",
    "\n",
    "# 웹 수집 데이터 저장하기\n",
    "출력기능원본 = sys.stdout  # 출력기능 임시 저장\n",
    "\n",
    "with open('c:/py_temp/naver_blog.txt', 'a', encoding='UTF-8') as file :\n",
    "    sys.stdout = file\n",
    "    user_scrap() \n",
    "\n",
    "sys.stdout = 출력기능원본  # 출력기능 원상 복구   "
   ]
  }
 ],
 "metadata": {
  "kernelspec": {
   "display_name": "base",
   "language": "python",
   "name": "python3"
  },
  "language_info": {
   "codemirror_mode": {
    "name": "ipython",
    "version": 3
   },
   "file_extension": ".py",
   "mimetype": "text/x-python",
   "name": "python",
   "nbconvert_exporter": "python",
   "pygments_lexer": "ipython3",
   "version": "3.9.12"
  },
  "orig_nbformat": 4,
  "vscode": {
   "interpreter": {
    "hash": "19d1d53a962d236aa061289c2ac16dc8e6d9648c89fe79f459ae9a3493bc67b4"
   }
  }
 },
 "nbformat": 4,
 "nbformat_minor": 2
}
