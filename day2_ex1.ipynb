{
 "cells": [
  {
   "cell_type": "code",
   "execution_count": null,
   "metadata": {},
   "outputs": [],
   "source": [
    "# print 함수와 input 함수 사용(활용)방법\n",
    "food = input(\"점심 뭐 먹었어요?\")\n",
    "\n",
    "print('오늘 %s 먹었어요' %food)\n",
    "print('오늘 {} 먹었어요' .format(food))\n",
    "print(f'오늘 {food} 먹었어요')"
   ]
  },
  {
   "cell_type": "code",
   "execution_count": null,
   "metadata": {},
   "outputs": [],
   "source": [
    "# 사용자정의 함수의 이해\n",
    "def 더하기(x,y) :\n",
    "    return print(f'{x} + {y} = {x+y} 입니다')\n",
    "def 빼기(x,y) :\n",
    "    return print(f'{x} - {y} = {x-y} 입니다')\n",
    "def 곱하기(x,y) :\n",
    "    return print(f'{x} * {y} = {x*y} 입니다')\n",
    "def 나누기(x,y) :\n",
    "    return print(f'{x} / {y} = {x/y} 입니다')           "
   ]
  },
  {
   "cell_type": "code",
   "execution_count": null,
   "metadata": {},
   "outputs": [],
   "source": [
    "나누기(3,2)"
   ]
  },
  {
   "cell_type": "code",
   "execution_count": null,
   "metadata": {},
   "outputs": [],
   "source": [
    "# 함수의 리턴값\n",
    "def hap_ex1(x,y) :\n",
    "    return x+y\n",
    "\n",
    "def hap_ex2(x,y) :\n",
    "    print(x+y)"
   ]
  },
  {
   "cell_type": "code",
   "execution_count": null,
   "metadata": {},
   "outputs": [],
   "source": [
    "# 리턴 값이 있는 경우\n",
    "# 다른 함수에서 결과값을 받아 활용 가능\n",
    "번호 = 3\n",
    "print( hap_ex1(3,2) + 번호 )"
   ]
  },
  {
   "cell_type": "code",
   "execution_count": null,
   "metadata": {},
   "outputs": [],
   "source": [
    "# 리턴 값이 없는 경우\n",
    "번호 = 3\n",
    "print( hap_ex2(3,2) + 번호 )"
   ]
  },
  {
   "cell_type": "code",
   "execution_count": null,
   "metadata": {},
   "outputs": [],
   "source": [
    "# 모듈과 패키지의 이해\n",
    "# 계산기 모듈을 모두 가져오기\n",
    "import calc\n",
    "import calc as 계산기\n",
    "from calc import 빼기_n\n",
    "from calc import 더하기_n as plus\n",
    "\n",
    "calc.곱하기_n(3,3)\n",
    "계산기.나누기_n(3,3)\n",
    "빼기_n(3,3)\n",
    "plus(3,3)"
   ]
  },
  {
   "cell_type": "code",
   "execution_count": null,
   "metadata": {},
   "outputs": [],
   "source": [
    "# if 조건문의 이해\n",
    "import random\n",
    "\n",
    "컵 = '빨간공','파란공','검은공'\n",
    "가방 = random.choice(컵)\n",
    "\n",
    "if 가방 == '빨간공' :\n",
    "    print(가방, '축 당첨!')\n",
    "else :\n",
    "    print(가방, '죄송... 꽝!')"
   ]
  },
  {
   "cell_type": "code",
   "execution_count": null,
   "metadata": {},
   "outputs": [],
   "source": [
    "# 다중조건분기문\n",
    "점수 = float(input(\"점수는? \"))\n",
    "\n",
    "if 점수 > 100 :\n",
    "    print(\"S 등급입니다.\")\n",
    "elif 점수>= 91 and 점수 <= 100 :\n",
    "    print(\"A 등급입니다.\")\n",
    "elif 점수>= 81 and 점수 < 91 :\n",
    "    print(\"B 등급입니다.\")    \n",
    "elif 점수>= 71 and 점수 < 81 :\n",
    "    print(\"C 등급입니다.\")        \n",
    "else :\n",
    "    print(\"D 등급입니다.\")"
   ]
  },
  {
   "cell_type": "code",
   "execution_count": null,
   "metadata": {},
   "outputs": [],
   "source": [
    "# for 반복문의 이해\n",
    "운동 = ['턱걸이', '달리기', '윗몸일으키기']\n",
    "\n",
    "for _ in range(3) : # 반복 횟수 지정하기\n",
    "    print(운동[0])"
   ]
  },
  {
   "cell_type": "code",
   "execution_count": null,
   "metadata": {},
   "outputs": [],
   "source": [
    "# for 반복문\n",
    "\n",
    "for idx, i in enumerate(운동, start=1):\n",
    "    print(idx, i)"
   ]
  },
  {
   "cell_type": "code",
   "execution_count": null,
   "metadata": {},
   "outputs": [],
   "source": [
    "import time, random\n",
    "data = list(range(1,10+1))\n",
    "\n",
    "for i in random.sample(data, 6) :\n",
    "    time.sleep(1)\n",
    "    print(f'번호는 {i}')"
   ]
  },
  {
   "cell_type": "code",
   "execution_count": null,
   "metadata": {},
   "outputs": [],
   "source": [
    "# 조건반복문의 이해\n",
    "import time, random\n",
    "\n",
    "while True :\n",
    "    time.sleep(2)\n",
    "    num = random.randrange(1,45+1)\n",
    "    print(num, '숫자는')\n",
    "\n",
    "    if num==3:\n",
    "        break"
   ]
  },
  {
   "cell_type": "code",
   "execution_count": null,
   "metadata": {},
   "outputs": [],
   "source": [
    "# 디렉토리와 파일관리\n",
    "import os\n",
    "print(f'이 컴퓨터 CPU 갯수는 {os.cpu_count()} 개 입니다.')"
   ]
  },
  {
   "cell_type": "code",
   "execution_count": null,
   "metadata": {},
   "outputs": [],
   "source": [
    "print('현재 디렉토리 : ', os.getcwd())\n",
    "os.chdir('c:/temp/')\n",
    "print('이동 후 디렉토리 : ', os.getcwd())"
   ]
  },
  {
   "cell_type": "code",
   "execution_count": null,
   "metadata": {},
   "outputs": [],
   "source": [
    "for idx, i in enumerate(os.listdir(), start=1) :\n",
    "    print(idx, i)"
   ]
  },
  {
   "cell_type": "code",
   "execution_count": null,
   "metadata": {},
   "outputs": [],
   "source": [
    "# open(), close() 사용하기\n",
    "파일 = open(\"c:/py_temp/하루일기.txt\", 'a', encoding='UTF-8' )\n",
    "파일.write('\\n오늘 파이썬 2일차')\n",
    "파일.close()"
   ]
  },
  {
   "cell_type": "code",
   "execution_count": null,
   "metadata": {},
   "outputs": [],
   "source": [
    "with open(\"c:/py_temp/하루일기.txt\", 'a', encoding='UTF-8' ) as f :\n",
    "    f.write('\\n'+ '수고 많았습니다.!!')"
   ]
  },
  {
   "cell_type": "code",
   "execution_count": null,
   "metadata": {},
   "outputs": [],
   "source": [
    "파일 = open(\"c:/py_temp/하루일기.txt\", 'r', encoding='UTF-8' )\n",
    "for i in 파일 :\n",
    "    print(i.replace('\\n',''))"
   ]
  },
  {
   "cell_type": "code",
   "execution_count": null,
   "metadata": {},
   "outputs": [],
   "source": [
    "# 예외처리 이해하기\n",
    "try :\n",
    "    no1, no2 = int(input('숫자는 : ')) , int(input('숫자는 : '))\n",
    "    result = no1/no2\n",
    "except ValueError :\n",
    "    print(\"숫자를 입력하세요\")\n",
    "except ZeroDivisionError :\n",
    "    print(\"0으로 나눌 수 없습니다.\")    \n",
    "else :\n",
    "    print(f'{no1}/{no2}={result}')\n",
    "finally :\n",
    "    print(\"예외처리 실습입니다\")"
   ]
  }
 ],
 "metadata": {
  "kernelspec": {
   "display_name": "base",
   "language": "python",
   "name": "python3"
  },
  "language_info": {
   "codemirror_mode": {
    "name": "ipython",
    "version": 3
   },
   "file_extension": ".py",
   "mimetype": "text/x-python",
   "name": "python",
   "nbconvert_exporter": "python",
   "pygments_lexer": "ipython3",
   "version": "3.9.12"
  },
  "orig_nbformat": 4,
  "vscode": {
   "interpreter": {
    "hash": "19d1d53a962d236aa061289c2ac16dc8e6d9648c89fe79f459ae9a3493bc67b4"
   }
  }
 },
 "nbformat": 4,
 "nbformat_minor": 2
}
